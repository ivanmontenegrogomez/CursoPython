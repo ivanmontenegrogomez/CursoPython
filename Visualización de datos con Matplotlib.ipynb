{
 "cells": [
  {
   "cell_type": "markdown",
   "id": "13c499fb",
   "metadata": {},
   "source": [
    "# Visualización de datos con Matplotlib"
   ]
  },
  {
   "cell_type": "markdown",
   "id": "b7d85a81",
   "metadata": {},
   "source": [
    "## <font color='orange'>**¿Para qué nos sirve Matplotlib?**</font>\n",
    "\n",
    "Matplotlib es una librería de Python open source que permite crear visualizaciones de datos, siendo la **visualización de datos** una etapa clave del análisis de datos, ya que permite encontrar patrones en los datos, estructuras subyancentes a éstos, descartar o apoyar conjeturas, ayuda a encontrar outliers, reduce la malinterpretación de los datos, entrega diferentes perspectivas del Dataset, etc."
   ]
  },
  {
   "cell_type": "code",
   "execution_count": null,
   "id": "e855dea6",
   "metadata": {},
   "outputs": [],
   "source": [
    "import matplotlib\n",
    "from matplotlib import pyplot as plt"
   ]
  },
  {
   "cell_type": "markdown",
   "id": "db508a67",
   "metadata": {},
   "source": [
    "**Pyplot** es un módulo Matplotlib que propone varias funciones sencillas para añadir elementos tales como líneas, imágenes o textos a los ejes de un gráfico."
   ]
  },
  {
   "cell_type": "markdown",
   "id": "45486f60",
   "metadata": {},
   "source": [
    "# <font color='blue'>Anatomía de un gráfico de Matplotlib:</font>\n",
    "\n",
    "<center><img src=\"https://drive.google.com/uc?id=1GbfclEmJj4upx5OZlf7_2xPqYAG8amYk\"></center>"
   ]
  },
  {
   "cell_type": "markdown",
   "id": "f8ce639c",
   "metadata": {},
   "source": [
    "## <font>**Gráficos de líneas (Line plots)**</font> \n",
    "\n",
    "El gráfico de líneas es utilizado para analizar series de tiempo, variables que tengan una referencia numérica, o bien para comparar variables de este tipo. Para realizar este gráfico en Matplotlib necesitamos utilizar el método `plt.plot`."
   ]
  },
  {
   "cell_type": "markdown",
   "id": "25de2bf1",
   "metadata": {},
   "source": [
    "Grafiquemos una señal sinusoidal, en este caso nuestros valores de $x$ va a estar definido como:\n",
    "$$x \\in [0,10]$$\n",
    "\n",
    "Y la variable $y$ se define como:\n",
    "\n",
    "$$y = sin(x)$$\n",
    "\n",
    "1. Utilizando `matplotlib` y `numpy` genere dicho gráfico\n",
    "2. ¿Cómo podemos obtener una curva más suave?\n",
    "3. Agregar título, etiqueta de ejes y leyenda al gráfico"
   ]
  },
  {
   "cell_type": "code",
   "execution_count": null,
   "id": "3122040a",
   "metadata": {},
   "outputs": [],
   "source": [
    "#1.\n",
    "\n",
    "import numpy as np\n",
    "\n",
    "x = [0,1,2,3,4,5,6,7,8,9,10]\n",
    "\n",
    "plt.plot(x, np.sin(x))\n",
    "plt.show()"
   ]
  },
  {
   "cell_type": "code",
   "execution_count": null,
   "id": "e0a21ade",
   "metadata": {},
   "outputs": [],
   "source": [
    "# Escribe tu código aquí"
   ]
  },
  {
   "cell_type": "markdown",
   "id": "a0d3d854",
   "metadata": {},
   "source": [
    "Grafiquemos dos señales, donde los valores de $x$ van a estar definido como: $x \\in [-2\\pi,2\\pi]$ y con una resolución de $0.05$ entre cada valor\n",
    "\n",
    "Y las variables $y$ se definen como:\n",
    "\n",
    "$$y_1 = sin(x)$$\n",
    "$$y_2 = cos(x)$$"
   ]
  },
  {
   "cell_type": "code",
   "execution_count": null,
   "id": "08b4ed2d",
   "metadata": {},
   "outputs": [],
   "source": [
    "# Escribe tu código aquí"
   ]
  },
  {
   "cell_type": "markdown",
   "id": "f0054839",
   "metadata": {},
   "source": [
    "## <font>Gráficos de Barra (Bar charts)</font>\n",
    "\n",
    "El gráfico de barras nos permite proyectar valores asociados a variables categóricas, en longitudes verticales u horizontales. Para realizar gráficos de barras en Matplotlib, necesitamos utilizar el método `plt.bar`. Al igual que `plt.plot`, el método utilizado para los gráficos de barra reciben valores $X$ e $Y$."
   ]
  },
  {
   "cell_type": "code",
   "execution_count": null,
   "id": "d530d005",
   "metadata": {},
   "outputs": [],
   "source": [
    "df = pd.DataFrame(\n",
    "[[1000,300,20],\n",
    " [500,400,50],\n",
    " [300,450,10],\n",
    " [250,600,5],\n",
    " [100,50,35]\n",
    "],\n",
    "    columns = ['Ingresos','Costos','Trabajadores'],\n",
    "    index=['Marketing','TI','Data Science','Cloud Computing','Client Management']\n",
    ")\n",
    "df"
   ]
  },
  {
   "cell_type": "code",
   "execution_count": null,
   "id": "10f644e9",
   "metadata": {},
   "outputs": [],
   "source": [
    "x = df.index\n",
    "\n",
    "plt.bar(x,df['Ingresos'])\n",
    "plt.bar(x,df['Costos'])\n",
    "\n",
    "plt.xticks(rotation = 45)\n",
    "\n",
    "plt.show()"
   ]
  },
  {
   "cell_type": "code",
   "execution_count": null,
   "id": "57708a7c",
   "metadata": {},
   "outputs": [],
   "source": [
    "x = np.arange(5)\n",
    "\n",
    "plt.bar(x-0.4/2,df['Ingresos'], 0.4)\n",
    "plt.bar(x+0.4/2,df['Costos'], 0.4)\n",
    "\n",
    "plt.xticks(x, labels=df.index, rotation = 45)\n",
    "\n",
    "plt.show()"
   ]
  },
  {
   "cell_type": "code",
   "execution_count": null,
   "id": "c8bd4711",
   "metadata": {},
   "outputs": [],
   "source": [
    "plt.subplot(2,1,1)\n",
    "plt.bar(df.index,df['Ingresos'], edgecolor = 'black')\n",
    "plt.xticks([])\n",
    "plt.yticks([0,250,500,750,1000])\n",
    "\n",
    "plt.legend(['Ingresos'])\n",
    "\n",
    "plt.subplot(2,1,2)\n",
    "plt.bar(df.index,df['Costos'], color = 'orange', edgecolor = 'black')\n",
    "plt.xticks(rotation = 45)\n",
    "plt.yticks([0,250,500,750,1000])\n",
    "\n",
    "plt.legend(['Costos'])\n",
    "\n",
    "\n",
    "plt.show()"
   ]
  },
  {
   "cell_type": "code",
   "execution_count": null,
   "id": "869c1bb6",
   "metadata": {},
   "outputs": [],
   "source": [
    "x = np.arange(5)\n",
    "\n",
    "plt.xticks(x, labels=df.index, rotation = 45)\n",
    "a = plt.bar(x-0.4/2,df['Ingresos'], 0.4)\n",
    "plt.ylabel('Miles de dólares')\n",
    "\n",
    "\n",
    "b = plt.twinx().bar(x+0.4/2,df['Trabajadores'], 0.4, color='orange')\n",
    "plt.ylabel('Personas')\n",
    "\n",
    "plt.legend([a,b],['Ingresos','Personas'])\n",
    "\n",
    "plt.show()"
   ]
  },
  {
   "cell_type": "markdown",
   "id": "fe48bf3f",
   "metadata": {},
   "source": [
    "## <font>Histogramas</font>\n",
    "\n",
    "Los histogramas son un caso específico de los gráficos de barras. Las diferencias entre los gráficos de barras y los histogramas, es que los primeros se utilizan para datos categóricos, mientras que los segundos para variables continuas.\n",
    "\n",
    "Para generar un histograma, necesitamos utilizar el método `plt.hist()`. Dicho método necesita como entrada los datos $X$, y un número de \"bins\" que se van a utilizar. Si este último número no especifica, entonces `plt.hist` generara por defecto 10 \"bins\"."
   ]
  },
  {
   "cell_type": "code",
   "execution_count": null,
   "id": "0732de9b",
   "metadata": {},
   "outputs": [],
   "source": [
    "import numpy as np\n",
    "\n",
    "np.random.seed(42) # Fijamos la semilla aleatorea\n",
    "\n",
    "X = np.random.normal(100, 25, 500) # Obtenemos 500 puntos de una distribución Normal con mu = 100 y sigma = 25\n",
    "\n",
    "plt.hist(X, bins = 100, range=(40,240), edgecolor='gray', color=['#17becf'])\n",
    "plt.show()"
   ]
  },
  {
   "cell_type": "markdown",
   "id": "7a2ef19e",
   "metadata": {},
   "source": [
    "Considere el siguiente Dataset para analizar la distribución de las características de las distintas especies plantas."
   ]
  },
  {
   "cell_type": "markdown",
   "id": "cb4b0fb2",
   "metadata": {},
   "source": [
    "<img style=\"width:35em\" src=\"https://thumbs.dreamstime.com/b/partes-de-la-flor-con-t%C3%ADtulos-corte-transversal-t%C3%ADpica-angioesperma-120195446.jpg\">"
   ]
  },
  {
   "cell_type": "code",
   "execution_count": null,
   "id": "11d423a3",
   "metadata": {},
   "outputs": [],
   "source": [
    "import pandas as pd\n",
    "\n",
    "iris = pd.read_csv('https://raw.githubusercontent.com/ivanmontenegrogomez/CursoPython/main/iris.csv')\n",
    "iris"
   ]
  },
  {
   "cell_type": "code",
   "execution_count": null,
   "id": "3cb5339f",
   "metadata": {},
   "outputs": [],
   "source": [
    "plt.figure(figsize=(15,5))\n",
    "\n",
    "plt.subplot(131)\n",
    "plt.hist(iris['SepalLengthCm'][iris['Species']=='Iris-setosa'])\n",
    "\n",
    "plt.subplot(132)\n",
    "plt.hist(iris['SepalLengthCm'][iris['Species']=='Iris-versicolor'])\n",
    "\n",
    "plt.subplot(133)\n",
    "plt.hist(iris['SepalLengthCm'][iris['Species']=='Iris-virginica'])\n",
    "\n",
    "plt.show()"
   ]
  },
  {
   "cell_type": "code",
   "execution_count": null,
   "id": "c637c244",
   "metadata": {},
   "outputs": [],
   "source": [
    "plt.figure(figsize=(15,5))\n",
    "\n",
    "plt.subplot(131)\n",
    "plt.hist(iris['SepalWidthCm'][iris['Species']=='Iris-setosa'])\n",
    "\n",
    "plt.subplot(132)\n",
    "plt.hist(iris['SepalWidthCm'][iris['Species']=='Iris-versicolor'])\n",
    "\n",
    "plt.subplot(133)\n",
    "plt.hist(iris['SepalWidthCm'][iris['Species']=='Iris-virginica'])\n",
    "\n",
    "plt.show()"
   ]
  },
  {
   "cell_type": "markdown",
   "id": "a8a52e1d",
   "metadata": {},
   "source": [
    "## <font>Diagramas de dispersión</font>\n",
    "\n",
    "Un diagrama de dispersión es un tipo de diagrama estadístico en el que se representa gráficamente un conjunto de datos de dos variables en dos ejes de coordenadas cartesianas, y que es utilizado para analizar la relación entre dos variables estadísticas.\n",
    "\n",
    "Utilizando el método `plt.scatter` podemos generar nuestros diagramas de dispersión."
   ]
  },
  {
   "cell_type": "code",
   "execution_count": null,
   "id": "39f43d2a",
   "metadata": {},
   "outputs": [],
   "source": [
    "iris = pd.read_csv('https://raw.githubusercontent.com/ivanmontenegrogomez/CursoPython/main/iris.csv')\n",
    "iris"
   ]
  },
  {
   "cell_type": "code",
   "execution_count": null,
   "id": "48e4e51d",
   "metadata": {},
   "outputs": [],
   "source": [
    "plt.scatter(iris['SepalLengthCm'],iris['PetalWidthCm'], alpha = 0.5 , marker = '*', s = 50)\n",
    "\n",
    "plt.title('SepalLength vs PetalWidth')\n",
    "\n",
    "plt.xlabel('SepalLength')\n",
    "plt.ylabel('PetalWidth')\n",
    "\n",
    "plt.show()"
   ]
  },
  {
   "cell_type": "code",
   "execution_count": null,
   "id": "80df9c4d",
   "metadata": {
    "scrolled": true
   },
   "outputs": [],
   "source": [
    "sct = plt.scatter(iris['SepalLengthCm'],iris['PetalWidthCm'],\n",
    "            c=pd.Categorical(iris['Species']).codes)\n",
    "\n",
    "plt.legend(handles=sct.legend_elements()[0], labels=['Setosa','Versicolor','Virginica'])\n",
    "plt.show()"
   ]
  },
  {
   "cell_type": "markdown",
   "id": "4cdfa449",
   "metadata": {},
   "source": [
    "## <font >Diagramas de Caja y Bigotes (Box Plots)</font>\n",
    "\n",
    "El Boxplot es una representación univariada de los datos. El componente principal corresponde a la caja, compuesta por un rectángulo en el cual los limites corresponden a el primer cuartil y tercer cuartil. Adentro de dicho rectángulo se presenta una línea la cual corresponde a la mediana. El otro componente corresponde a los bigotes, los cuales se extienden hasta una distancia de $1.5 \\times IQR$, donde $IQR$ corresponde al rango intercuartil y se calcula: $IQR=Q_3 - Q_1$. Finalmente, cualquier valor que supere la distancia de los bigotes, corresponden a nuestros datos atípicos (outliers), los cuales se marcan como puntos después de los bigotes.\n",
    "\n",
    "En Matplotlib, utilizando el método `plt.boxplot` podemos generar nuestros diagramas de caja y bigotes."
   ]
  },
  {
   "cell_type": "code",
   "execution_count": null,
   "id": "f61d0414",
   "metadata": {},
   "outputs": [],
   "source": [
    "iris = pd.read_csv('https://raw.githubusercontent.com/ivanmontenegrogomez/CursoPython/main/iris.csv')\n",
    "iris"
   ]
  },
  {
   "cell_type": "code",
   "execution_count": null,
   "id": "6e02868f",
   "metadata": {},
   "outputs": [],
   "source": [
    "plt.boxplot(iris['SepalLengthCm'],showmeans=True, meanline='-')\n",
    "\n",
    "plt.xticks([1], ['SepalLengthCm'])\n",
    "plt.show()"
   ]
  },
  {
   "cell_type": "code",
   "execution_count": null,
   "id": "3245e5a7",
   "metadata": {},
   "outputs": [],
   "source": [
    "plt.boxplot([iris['SepalLengthCm'],iris['PetalLengthCm']],showmeans=True, meanline='-')\n",
    "\n",
    "plt.xticks([1, 2], ['SepalLengthCm', 'PetalLengthCm'])\n",
    "plt.show()"
   ]
  },
  {
   "cell_type": "markdown",
   "id": "6f16849c",
   "metadata": {},
   "source": [
    "# <font>Mapas de calor (Heatmap)</font>\n",
    "\n",
    "Esta visualización utiliza la intensidad de color para codificar los valores existentes en las tablas. Para poder realizar un mapa de calor utilizando Matplotlib necesitamos invocar el método `plt.pcolormesh()`. Este recibe como argumento un arreglo bidimensional y nos devuelve un objeto artista, relacionado a nuestro mapa de calor."
   ]
  },
  {
   "cell_type": "code",
   "execution_count": null,
   "id": "f921524f",
   "metadata": {
    "scrolled": true
   },
   "outputs": [],
   "source": [
    "iris.corr()"
   ]
  },
  {
   "cell_type": "code",
   "execution_count": null,
   "id": "bff6e889",
   "metadata": {
    "scrolled": true
   },
   "outputs": [],
   "source": [
    "heatmap = plt.pcolormesh(iris.drop(columns='Id').corr())\n",
    "cbar = plt.colorbar(heatmap)\n",
    "\n",
    "plt.xticks([0.5,1.5,2.5,3.5],['SepalLengthCm','SepalWidthCm','PetalLengthCm','PetalWidthCm'], rotation = 45)\n",
    "plt.yticks([0.5,1.5,2.5,3.5],['SepalLengthCm','SepalWidthCm','PetalLengthCm','PetalWidthCm'])\n",
    "\n",
    "for i in range(4):\n",
    "    for j in range(4):\n",
    "        text = plt.text(j + 0.4, i + 0.4, iris.drop(columns='Id').corr().values[i, j].round(2), color=\"white\")\n",
    "\n",
    "plt.show()"
   ]
  },
  {
   "cell_type": "markdown",
   "id": "64e5c632",
   "metadata": {},
   "source": [
    "## <font color='blue'>**Actividad: Análisis y visualización de datos con Base de Datos Countries**</font>\n",
    "\n",
    "Para esta actividad utilizaremos la siguiente Base de Datos:"
   ]
  },
  {
   "cell_type": "code",
   "execution_count": null,
   "id": "a2972c98",
   "metadata": {},
   "outputs": [],
   "source": [
    "import pandas as pd\n",
    "\n",
    "data = pd.read_csv(\"https://raw.githubusercontent.com/ivanmontenegrogomez/CursoPython/main/countries.csv\")\n",
    "data"
   ]
  },
  {
   "cell_type": "markdown",
   "id": "7934ac2a",
   "metadata": {},
   "source": [
    "1.1. Comparar (mediante histogramas) la distribución del PIB Per Cápita entre Asia y Europa en 2007. ¿Qué puede decir sobre los resultados?.<br>\n",
    "1.2. Obtener el DataFrame con los países de Asia que tienen un PIB menor a 10.000 dólares en 2007.\n",
    "\n",
    "\n",
    "2.1. Comparar (mediante histogramas) la distribución de la esperanza de vida entre Europa y América en 1997. ¿Qué puede decir sobre los resultados?.<br>\n",
    "2.2. Obtener el DataFrame con los países de América con menor esperanza de vida en 1997.\n",
    "\n",
    "\n",
    "3.1. Comparar (mediante gráfico de líneas) el crecimiento del PIB Per Cápita entre Estados Unidos y China.<br>\n",
    "3.2. En relación con el gráfico anterior, ambos países tienen datos muy diferentes en escala; por lo tanto para comparar el crecimiento del PIB entre ellos, hay que transformar los datos a términos relativos considerando un año de referencia. Repita el ejercicio 3.1 considerando como año base 1950. ¿Qué puede decir sobre los resultados?.\n",
    "\n",
    "\n",
    "4.1. Comparar (mediante gráfico de líneas) el crecimiento de la población entre Estados Unidos y China. ¿Qué puede decir sobre los resultados?.<br>\n",
    "4.2. En relación con el gráfico anterior, ambos países tienen datos muy diferentes en escala. Repita el ejercicio 4.1 considerando como año base 1950. ¿Qué puede decir sobre los resultados?.\n",
    "\n",
    "\n",
    "5.1. Estudiar (mediante un gráfico de dispersión) la relación entre el PIB per cápita y la expectativa de vida en 2007.¿Qué puede decir sobre los resultados?.<br>\n",
    "5.2. ¿Cuál es la correlación entre PIB y la Expectativa de vida?.<br>\n",
    "5.3. ¿Cuál es la relación que observa entre PIB y la Expectativa de vida?.<br>\n",
    "5.4. Realice una transformación logarítmica, grafique nuevamente un gráfico de dispersión y calcule nuevamente la correlación entre PIB y la Expectativa de vida. ¿Qué puede decir sobre los resultados?.\n",
    "\n",
    "\n",
    "6.1. Comparar (mediante gráfico de barras) la población de los 10 países más poblados en 2007.<br>\n",
    "6.2. Incorpore al gráfico anterior las barras correspondientes al PIB. ¿Qué puede decir sobre los resultados?"
   ]
  },
  {
   "cell_type": "code",
   "execution_count": null,
   "id": "e4e12c5b",
   "metadata": {},
   "outputs": [],
   "source": [
    "# Escribe tu código aquí"
   ]
  }
 ],
 "metadata": {
  "kernelspec": {
   "display_name": "Python 3",
   "language": "python",
   "name": "python3"
  },
  "language_info": {
   "codemirror_mode": {
    "name": "ipython",
    "version": 3
   },
   "file_extension": ".py",
   "mimetype": "text/x-python",
   "name": "python",
   "nbconvert_exporter": "python",
   "pygments_lexer": "ipython3",
   "version": "3.8.8"
  },
  "vscode": {
   "interpreter": {
    "hash": "049170f37bbe5733a7cfc9f6cff1f80e8c74e803033562c39772b9597009a82d"
   }
  }
 },
 "nbformat": 4,
 "nbformat_minor": 5
}
