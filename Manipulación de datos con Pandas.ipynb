{
 "cells": [
  {
   "cell_type": "markdown",
   "id": "33e428bf",
   "metadata": {},
   "source": [
    "# Manipulación de datos con Pandas"
   ]
  },
  {
   "cell_type": "markdown",
   "id": "805f7713",
   "metadata": {},
   "source": [
    "## <font color='orange'>**¿Para qué nos sirve Pandas?**</font>\n",
    "\n",
    "Para poder manipular grandes sets de datos numéricos, tablas y series de tiempo. Trabajar con múltiples formatos de archivos de datos como csv o xls. Crear DataFrames que podremos manipular y analizar sin preocuparnos por el performance de nuestras aplicaciones, todo esto muy fácil y rápido. Además, **Pandas es la librería de software libre para manipulación de datos con Python más usada en Análisis y Ciencia de Datos**.\n"
   ]
  },
  {
   "cell_type": "code",
   "execution_count": null,
   "id": "4bed9fd0",
   "metadata": {},
   "outputs": [],
   "source": [
    "import pandas as pd"
   ]
  },
  {
   "cell_type": "markdown",
   "id": "42ffdd27",
   "metadata": {},
   "source": [
    "## <font color='blue'>**Estructuras de datos en pandas: Series**</font>\n",
    "\n",
    "Las **series** son estructuras unidimensionales que contenienen un array de datos (de cualquier tipo soportado por NumPy) y un array de etiquetas que van asociadas a los datos, llamado índice (*index* en inglés):"
   ]
  },
  {
   "cell_type": "code",
   "execution_count": null,
   "id": "3fb823d6",
   "metadata": {},
   "outputs": [],
   "source": [
    "ventas = pd.Series([15, 12, 21, 38], index = [\"Ene\", \"Feb\", \"Mar\", \"Abr\"])\n",
    "ventas"
   ]
  },
  {
   "cell_type": "markdown",
   "id": "d5d304bf",
   "metadata": {},
   "source": [
    "Mediante la función `type` podemos ver el tipo del objeto:"
   ]
  },
  {
   "cell_type": "code",
   "execution_count": null,
   "id": "e709c3a4",
   "metadata": {},
   "outputs": [],
   "source": [
    "type(ventas)"
   ]
  },
  {
   "cell_type": "markdown",
   "id": "8b69c315",
   "metadata": {},
   "source": [
    "Los elementos de la serie pueden extraerse con el nombre de la serie y, entre corchetes, el índice (posición) del elemento o su etiqueta (si la tiene):"
   ]
  },
  {
   "cell_type": "code",
   "execution_count": null,
   "id": "85e533a5",
   "metadata": {},
   "outputs": [],
   "source": [
    "ventas[0]"
   ]
  },
  {
   "cell_type": "markdown",
   "id": "d74b89bc",
   "metadata": {},
   "source": [
    "El tipo de la serie, accesible a través del atributo `dtype`, coincide con el tipo de los datos que contiene:"
   ]
  },
  {
   "cell_type": "code",
   "execution_count": null,
   "id": "4e603f90",
   "metadata": {},
   "outputs": [],
   "source": [
    "ventas.dtype"
   ]
  },
  {
   "cell_type": "markdown",
   "id": "0564cea2",
   "metadata": {},
   "source": [
    "Tanto a los índices como a sus respectivos valores se accede a través de `index` y `values`:"
   ]
  },
  {
   "cell_type": "code",
   "execution_count": null,
   "id": "725f54f0",
   "metadata": {},
   "outputs": [],
   "source": [
    "ventas.index"
   ]
  },
  {
   "cell_type": "code",
   "execution_count": null,
   "id": "7bbebd05",
   "metadata": {},
   "outputs": [],
   "source": [
    "ventas.values"
   ]
  },
  {
   "cell_type": "markdown",
   "id": "50e0ff9c",
   "metadata": {},
   "source": [
    "Mediante el atributo `shape` se puede observar la estructura de la Serie:"
   ]
  },
  {
   "cell_type": "code",
   "execution_count": null,
   "id": "2a0362ca",
   "metadata": {},
   "outputs": [],
   "source": [
    "ventas.shape"
   ]
  },
  {
   "cell_type": "markdown",
   "id": "cb4bbba9",
   "metadata": {},
   "source": [
    "## <font color='blue'>**Estructuras de datos en pandas: Dataframes**</font>\n",
    "\n",
    "Los **dataframes** son estructuras tabulares de datos orientadas a columnas, \n",
    "con etiquetas tanto en filas como en columnas:"
   ]
  },
  {
   "cell_type": "code",
   "execution_count": null,
   "id": "c9a51af4",
   "metadata": {},
   "outputs": [],
   "source": [
    "ventas = pd.DataFrame({\n",
    "    \"Entradas\": [41, 32, 56, 18],\n",
    "    \"Salidas\": [17, 54, 6, 78],\n",
    "    \"Valoración\": [66, 54, 49, 66],\n",
    "    \"Límite\": [\"No\", \"Si\", \"No\", \"No\"],\n",
    "    \"Cambio\": [1.43, 1.16, -0.67, 0.77]\n",
    "    },\n",
    "    index = [\"Ene\", \"Feb\", \"Mar\", \"Abr\"]\n",
    "    )\n",
    "ventas"
   ]
  },
  {
   "cell_type": "code",
   "execution_count": null,
   "id": "68bdb093",
   "metadata": {},
   "outputs": [],
   "source": [
    "type(ventas)"
   ]
  },
  {
   "cell_type": "code",
   "execution_count": null,
   "id": "db609197",
   "metadata": {},
   "outputs": [],
   "source": [
    "ventas['Entradas']"
   ]
  },
  {
   "cell_type": "code",
   "execution_count": null,
   "id": "27f7fa80",
   "metadata": {},
   "outputs": [],
   "source": [
    "type(ventas['Entradas'])"
   ]
  },
  {
   "cell_type": "code",
   "execution_count": null,
   "id": "5a837796",
   "metadata": {},
   "outputs": [],
   "source": [
    "ventas.dtypes"
   ]
  },
  {
   "cell_type": "code",
   "execution_count": null,
   "id": "2e35604f",
   "metadata": {},
   "outputs": [],
   "source": [
    "ventas.shape"
   ]
  },
  {
   "cell_type": "markdown",
   "id": "59d841ee",
   "metadata": {},
   "source": [
    "## <font color='blue'>**Visión general de los datos**</font>\n",
    "\n",
    "El método `info()` genera una vista con información referente a las características del DataFrame. \n",
    "El método `describe` genera una DataFrame con estadísticas básicas del conjunto de datos."
   ]
  },
  {
   "cell_type": "code",
   "execution_count": null,
   "id": "0c8da231",
   "metadata": {},
   "outputs": [],
   "source": [
    "ventas.info()\n",
    "ventas.describe()"
   ]
  },
  {
   "cell_type": "markdown",
   "id": "01046576",
   "metadata": {},
   "source": [
    "## <font>**Seleccionando, ordenando, asignando y filtrando datos**</font> "
   ]
  },
  {
   "cell_type": "markdown",
   "id": "643a8474",
   "metadata": {},
   "source": [
    "<img src=\"https://github.com/ivanmontenegrogomez/CursoPython/blob/main/manipulacion.jpg?raw=true\"></img>"
   ]
  },
  {
   "cell_type": "code",
   "execution_count": null,
   "id": "8757d8f6",
   "metadata": {},
   "outputs": [],
   "source": [
    "import pandas as pd\n",
    "import numpy as np\n",
    "df = pd.DataFrame(np.arange(18).reshape([6, 3]),\n",
    "                  index = [\"a\", \"b\", \"c\", \"d\", \"e\", \"f\"],\n",
    "                  columns = [\"A\", \"B\", \"C\"])\n",
    "df"
   ]
  },
  {
   "cell_type": "markdown",
   "id": "bf3d8411",
   "metadata": {},
   "source": [
    "### Slicing:\n",
    "Hace referencia a la operación por medio de la cual se extraen elementos de un objeto de Python, tal como una lista, un string, una Serie, un DataFrame, etc.\n",
    "\n",
    "- Obtener las 5 primeras filas del DataFrame\n",
    "- Obtener el sub DataFrame que contenga únicamente las columnas $A$ y $C$\n",
    "- Obtener los datos desde la fila $b$ a la $d$\n",
    "- Obtener todos los datos a partir de la fila $e$\n",
    "- Obtener el sub DataFrame que contenga únicamente las columnas $B$ y $C$ para las últimas 3 filas"
   ]
  },
  {
   "cell_type": "code",
   "execution_count": null,
   "id": "bb90a548",
   "metadata": {},
   "outputs": [],
   "source": [
    "# Escribe tu código aquí"
   ]
  },
  {
   "cell_type": "markdown",
   "id": "b92deb62",
   "metadata": {},
   "source": [
    "### Selección de datos mediante métodos `loc` e `iloc` :\n",
    "El método `loc` se utiliza en los DataFrames para seleccionar los elementos en base a la etiqueta del índice, mientras que el método `iloc` se utiliza para seleccionar los elementos en base a su ubicación.\n",
    " \n",
    "- Seleccionar el primer elemento de la columna $A$\n",
    "- Seleccionar la tercera fila del DataFrame\n",
    "- Seleccionar las columnas $B$ y $C$ del DataFrame\n",
    "- Seleccionar el sub DataFrame compuesto por las filas $c$ y $e$ y las columnas $A$ y $C$"
   ]
  },
  {
   "cell_type": "code",
   "execution_count": 1,
   "id": "73e8146e",
   "metadata": {},
   "outputs": [],
   "source": [
    "# Escribe tu código aquí"
   ]
  },
  {
   "cell_type": "markdown",
   "id": "2d9eacfc",
   "metadata": {},
   "source": [
    "### Filtros booleanos:\n",
    "Otro método especialmente útil para la selección es el uso de listas de booleanos. En este caso la lista de booleanos debe tener la misma longitud que la cantidad de filas del DataDrame."
   ]
  },
  {
   "cell_type": "code",
   "execution_count": null,
   "id": "8fe499cb",
   "metadata": {},
   "outputs": [],
   "source": [
    "capitals = pd.DataFrame(\n",
    "    [\n",
    "    [\"Berlín\",3.664,\"Europa\"],\n",
    "    [\"Roma\",2.873,\"Europa\"],\n",
    "    [\"Madrid\",3.233,\"Europa\"],\n",
    "    [\"Santiago\",6.269,\"América\"],\n",
    "    [\"Pekín\",21.893,\"Asia\"]\n",
    "    ], \n",
    "    index = [\"Alemania\", \"Italia\", \"España\", \"Chile\", \"China\"],\n",
    "    columns=['Capital', 'Población (en millones)', 'Continente'])\n",
    "capitals"
   ]
  },
  {
   "cell_type": "code",
   "execution_count": null,
   "id": "f7b1d637",
   "metadata": {},
   "outputs": [],
   "source": [
    "mask = [False, False, True, True, True]"
   ]
  },
  {
   "cell_type": "code",
   "execution_count": null,
   "id": "8e6081d9",
   "metadata": {},
   "outputs": [],
   "source": [
    "capitals[mask]"
   ]
  },
  {
   "cell_type": "code",
   "execution_count": null,
   "id": "48bab648",
   "metadata": {},
   "outputs": [],
   "source": [
    "capitals['Capital'] == 'Madrid'"
   ]
  },
  {
   "cell_type": "code",
   "execution_count": null,
   "id": "1fdeefdb",
   "metadata": {},
   "outputs": [],
   "source": [
    "capitals[capitals['Capital'] == 'Madrid']"
   ]
  },
  {
   "cell_type": "code",
   "execution_count": null,
   "id": "79ec727f",
   "metadata": {},
   "outputs": [],
   "source": [
    "capitals[capitals['Población (en millones)'] < 3.000]"
   ]
  },
  {
   "cell_type": "markdown",
   "id": "9fbb5cbf",
   "metadata": {},
   "source": [
    "### Utilizando los métodos vistos:\n",
    "\n",
    "- Seleccionar la población de Roma\n",
    "- Seleccionar el sub DataFrame correspondiente a Italia\n",
    "- Seleccionar la capital de España\n",
    "- Seleccionar todas las capitales que tengan un población mayor a 3.000.000 de habitantes\n",
    "- Seleccionar todas las capitales que tengan un población mayor a 3.000.000 de habitantes pero menor a 7.000.000 de habitantes\n",
    "- Seleccionar el sub DataFrame con las capitales europeas\n",
    "- Seleccionar el sub DataFrame con los datos de China\n",
    "- Seleccionar el sub DataFrame sólo con las capitales y continentes\n",
    "- Seleccionar el sub DataFrame con las capitales y continentes sólo de los países no europeos\n",
    "- Seleccionar el sub DataFrame sólo de los países no europeos"
   ]
  },
  {
   "cell_type": "code",
   "execution_count": null,
   "id": "8e0cda92",
   "metadata": {},
   "outputs": [],
   "source": [
    "capitals = pd.DataFrame(\n",
    "    [\n",
    "    [\"Berlín\",3.664,\"Europa\"],\n",
    "    [\"Roma\",2.873,\"Europa\"],\n",
    "    [\"Madrid\",3.233,\"Europa\"],\n",
    "    [\"Santiago\",6.269,\"América\"],\n",
    "    [\"Pekín\",21.893,\"Asia\"]\n",
    "    ], \n",
    "    index = [\"Alemania\", \"Italia\", \"España\", \"Chile\", \"China\"],\n",
    "    columns=['Capital', 'Población (en millones)', 'Continente'])\n",
    "capitals"
   ]
  },
  {
   "cell_type": "code",
   "execution_count": 2,
   "id": "f907bd84",
   "metadata": {},
   "outputs": [],
   "source": [
    "# Escribe tu código aquí"
   ]
  },
  {
   "cell_type": "markdown",
   "id": "5427ab34",
   "metadata": {},
   "source": [
    "### Edición de DataFrames:\n",
    "Como se ha visto existe una gran variedad de formas para seleccionar elementos o bloques de elementos de un dataframe, y cada una de estas selecciones puede ser utilizada para modificar o eliminar los valores contenidos en el dataframe.\n",
    "\n",
    "Podemos modificar un valor concreto usando los métodos `loc` o `iloc`, en función de que queramos usar sus etiquetas o índices. También es posible eliminar valores usando el método `drop`.\n"
   ]
  },
  {
   "cell_type": "code",
   "execution_count": null,
   "id": "1a39bf49",
   "metadata": {},
   "outputs": [],
   "source": [
    "df = pd.DataFrame(np.arange(18).reshape([6, 3]),\n",
    "                  index = [\"a\", \"b\", \"c\", \"d\", \"e\", \"f\"],\n",
    "                  columns = [\"A\", \"B\", \"C\"])\n",
    "df"
   ]
  },
  {
   "cell_type": "markdown",
   "id": "1f088ec3",
   "metadata": {},
   "source": [
    "- Cambiar el elemento de la fila $b$ y columna $C$ por -1\n",
    "- Cambiar todos los elementos de la columna $A$ por -2\n",
    "- Cambiar los elementos de las filas $c$, $d$ y $e$ por -3\n",
    "- Cambiar los elementos de la columna $C$ y filas $c$, $d$ y $e$ por -4\n",
    "- Cambiar los elementos de la última fila por 10, 20 y 30 respectivamente\n",
    "- Crear un nueva columna $D$ que contenga únicamente -5\n",
    "- Eliminar la columna $A$\n",
    "- Eliminar las filas $a$ y $d$\n",
    "- Aumentar en 1 los valores de la fila $f$\n",
    "- Disminuir en 10 los valores de la columna $B$\n",
    "- Multiplicar por 2 los valores de las filas $b$ y $c$\n",
    "- Dividir por 3 los valores de la columna $C$"
   ]
  },
  {
   "cell_type": "code",
   "execution_count": 3,
   "id": "df57f5e3",
   "metadata": {},
   "outputs": [],
   "source": [
    "# Escribe tu código aquí"
   ]
  },
  {
   "cell_type": "markdown",
   "id": "bce0cc66",
   "metadata": {},
   "source": [
    "### Ordenación de DataFrames:\n",
    "Otras herramientas útiles son aquellas que permiten ordenar las estructuras de datos de pandas. Para ello se dispone de los métodos `sort_index` y `sort_values` para ordenación por índice y valores respectivamente."
   ]
  },
  {
   "cell_type": "code",
   "execution_count": null,
   "id": "6ccd9b49",
   "metadata": {},
   "outputs": [],
   "source": [
    "capitals = pd.DataFrame(\n",
    "    [\n",
    "    [\"Berlín\",3.664,\"Europa\"],\n",
    "    [\"Roma\",2.873,\"Europa\"],\n",
    "    [\"Madrid\",3.233,\"Europa\"],\n",
    "    [\"Santiago\",6.269,\"América\"],\n",
    "    [\"Pekín\",21.893,\"Asia\"]\n",
    "    ], \n",
    "    index = [\"Alemania\", \"Italia\", \"España\", \"Chile\", \"China\"],\n",
    "    columns=['Capital', 'Población (en millones)', 'Continente'])\n",
    "capitals"
   ]
  },
  {
   "cell_type": "markdown",
   "id": "bf86babc",
   "metadata": {},
   "source": [
    "Al método `sort_index` se le puede indicar el eje sobre el cual se quiere realizar la ordenación. Este método por si solo no modifica la estructura del DataFrame, para lograr aquello se debe indicar la sentencia `inplace = True`. Por otra parte, la ordenación la realiza, por defecto, de manera ascendente, para cambiar este orden se debe especificar mediante la sentencia `ascending = False`."
   ]
  },
  {
   "cell_type": "code",
   "execution_count": null,
   "id": "3e8f937a",
   "metadata": {},
   "outputs": [],
   "source": [
    "capitals.sort_index()"
   ]
  },
  {
   "cell_type": "markdown",
   "id": "e5918789",
   "metadata": {},
   "source": [
    "Es posible ordenar por columnas, pero para ello se debe indicar el eje mediante la sentencia `axis = 1`."
   ]
  },
  {
   "cell_type": "code",
   "execution_count": null,
   "id": "f25781d7",
   "metadata": {},
   "outputs": [],
   "source": [
    "capitals.sort_index(axis = 1)"
   ]
  },
  {
   "cell_type": "code",
   "execution_count": null,
   "id": "da0ef08b",
   "metadata": {},
   "outputs": [],
   "source": [
    "capitals.sort_index(inplace = True)\n",
    "capitals"
   ]
  },
  {
   "cell_type": "code",
   "execution_count": null,
   "id": "0a74a24b",
   "metadata": {},
   "outputs": [],
   "source": [
    "capitals.sort_index(ascending = False)\n",
    "capitals"
   ]
  },
  {
   "cell_type": "markdown",
   "id": "488e0fdb",
   "metadata": {},
   "source": [
    "Para ordenar respecto de los valores de una o más columnas se utilza el método `sort_values`."
   ]
  },
  {
   "cell_type": "code",
   "execution_count": null,
   "id": "136501ec",
   "metadata": {},
   "outputs": [],
   "source": [
    "capitals.sort_values(by = 'Población (en millones)')"
   ]
  },
  {
   "cell_type": "code",
   "execution_count": null,
   "id": "7d94b53f",
   "metadata": {},
   "outputs": [],
   "source": [
    "capitals.sort_values(by = 'Población (en millones)', ascending = False)"
   ]
  },
  {
   "cell_type": "code",
   "execution_count": null,
   "id": "bb09963e",
   "metadata": {},
   "outputs": [],
   "source": [
    "capitals.sort_values(by = ['Continente','Población (en millones)'])"
   ]
  },
  {
   "cell_type": "markdown",
   "id": "ca1ef483",
   "metadata": {},
   "source": [
    "## Limpieza de datos"
   ]
  },
  {
   "cell_type": "markdown",
   "id": "4281c77f",
   "metadata": {},
   "source": [
    "<img src=\"https://github.com/ivanmontenegrogomez/CursoPython/blob/main/limpieza.jpg?raw=true\"></img>"
   ]
  },
  {
   "cell_type": "code",
   "execution_count": null,
   "id": "f87469a3",
   "metadata": {},
   "outputs": [],
   "source": [
    "df = pd.read_csv('https://raw.githubusercontent.com/ivanmontenegrogomez/CursoPython/main/athletes.csv')\n",
    "df"
   ]
  },
  {
   "cell_type": "code",
   "execution_count": null,
   "id": "22f8413f",
   "metadata": {},
   "outputs": [],
   "source": [
    "df.info()"
   ]
  },
  {
   "cell_type": "markdown",
   "id": "b47ba631",
   "metadata": {},
   "source": [
    "Para la detección de datos numéricos faltantes o NaN (Not a Number), se puede hace uso de los metodos `isnull()` y `any()`. La sentencia `isnull().any()` retorna un booleano que indica si una columna tiene algún dato faltante (NaN). Para identificar las filas con datos faltantes, se debe específicar el eje con la sentencia `axis = 1`."
   ]
  },
  {
   "cell_type": "code",
   "execution_count": null,
   "id": "4946f68c",
   "metadata": {},
   "outputs": [],
   "source": [
    "df.isnull().any()"
   ]
  },
  {
   "cell_type": "code",
   "execution_count": null,
   "id": "2598b578",
   "metadata": {},
   "outputs": [],
   "source": [
    "df.isnull().any(axis=1)"
   ]
  },
  {
   "cell_type": "code",
   "execution_count": null,
   "id": "1947d212",
   "metadata": {},
   "outputs": [],
   "source": [
    "df[df.isnull().any(axis=1)]"
   ]
  },
  {
   "cell_type": "markdown",
   "id": "d278b5bc",
   "metadata": {},
   "source": [
    "Dependiendo del contexto del problema, se podría desear completar los datos faltantes en lugar de eliminarlos. Para ello se hace uso del método `fillna()` indicando el valor o método con el cual se desea completar los datos faltantes."
   ]
  },
  {
   "cell_type": "code",
   "execution_count": null,
   "id": "07c05f54",
   "metadata": {},
   "outputs": [],
   "source": [
    "df.mean()"
   ]
  },
  {
   "cell_type": "code",
   "execution_count": null,
   "id": "a8cb60a8",
   "metadata": {},
   "outputs": [],
   "source": [
    "df['weight'].fillna(df['weight'].mean(), inplace = True)"
   ]
  },
  {
   "cell_type": "code",
   "execution_count": null,
   "id": "4f9d2042",
   "metadata": {},
   "outputs": [],
   "source": [
    "df.isnull().any()"
   ]
  },
  {
   "cell_type": "code",
   "execution_count": null,
   "id": "5c2755d5",
   "metadata": {},
   "outputs": [],
   "source": [
    "df['height'].fillna(df['height'].mean(), inplace = True)"
   ]
  },
  {
   "cell_type": "code",
   "execution_count": null,
   "id": "78e5bf10",
   "metadata": {},
   "outputs": [],
   "source": [
    "df.isnull().any()"
   ]
  },
  {
   "cell_type": "markdown",
   "id": "e69f8478",
   "metadata": {},
   "source": [
    "Ahora si en lugar de completar los datos faltantes bajo algún método, se quisiera sólo eliminarlos, se debe hacer uso del método `dropna`. Este método no modifica el DataFrame, para ello es necesario indicar la sentencia `inplace = True`."
   ]
  },
  {
   "cell_type": "code",
   "execution_count": null,
   "id": "afe72120",
   "metadata": {},
   "outputs": [],
   "source": [
    "df"
   ]
  },
  {
   "cell_type": "code",
   "execution_count": null,
   "id": "36cd8ac0",
   "metadata": {},
   "outputs": [],
   "source": [
    "df.isnull().any()"
   ]
  },
  {
   "cell_type": "code",
   "execution_count": null,
   "id": "e47d5668",
   "metadata": {},
   "outputs": [],
   "source": [
    "df.dropna(inplace = True)"
   ]
  },
  {
   "cell_type": "code",
   "execution_count": null,
   "id": "fe27ef7b",
   "metadata": {},
   "outputs": [],
   "source": [
    "df.isnull().any()"
   ]
  },
  {
   "cell_type": "code",
   "execution_count": null,
   "id": "c4a354db",
   "metadata": {},
   "outputs": [],
   "source": [
    "df"
   ]
  },
  {
   "cell_type": "code",
   "execution_count": null,
   "id": "90e74e0f",
   "metadata": {},
   "outputs": [],
   "source": [
    "df.dropna(subset=['weight']).isnull().any()"
   ]
  },
  {
   "cell_type": "markdown",
   "id": "45c83155",
   "metadata": {},
   "source": [
    "Por defecto el método `dropna` elminará una columna o fila si algún valor es NaN. En caso que queramos eliminar una fila o columna cuando todos sus elementos son NaN se debe incluir la sentencia `how = all`."
   ]
  },
  {
   "cell_type": "code",
   "execution_count": null,
   "id": "5fde7a4a",
   "metadata": {},
   "outputs": [],
   "source": [
    "df"
   ]
  },
  {
   "cell_type": "code",
   "execution_count": null,
   "id": "6cd7ed92",
   "metadata": {},
   "outputs": [],
   "source": [
    "df.isnull().any()"
   ]
  },
  {
   "cell_type": "code",
   "execution_count": null,
   "id": "7e8c1cdc",
   "metadata": {},
   "outputs": [],
   "source": [
    "df.dropna(how = 'all')"
   ]
  },
  {
   "cell_type": "markdown",
   "id": "5acd9fd5",
   "metadata": {},
   "source": [
    "Para saber si todos los elementos de una fila o columna son NaN, se puede utilizar los métodos `isnull()` y `all()`. "
   ]
  },
  {
   "cell_type": "code",
   "execution_count": null,
   "id": "b4c75c2e",
   "metadata": {},
   "outputs": [],
   "source": [
    "df.isnull().all()"
   ]
  },
  {
   "cell_type": "markdown",
   "id": "fd3d1071",
   "metadata": {},
   "source": [
    "### Outliers"
   ]
  },
  {
   "cell_type": "code",
   "execution_count": null,
   "id": "acb3698e",
   "metadata": {},
   "outputs": [],
   "source": [
    "df = pd.read_csv('https://raw.githubusercontent.com/ivanmontenegrogomez/CursoPython/main/athletes.csv')\n",
    "df"
   ]
  },
  {
   "cell_type": "code",
   "execution_count": null,
   "id": "354f1bdf",
   "metadata": {
    "scrolled": true
   },
   "outputs": [],
   "source": [
    "df.info()"
   ]
  },
  {
   "cell_type": "code",
   "execution_count": null,
   "id": "5e6eab7c",
   "metadata": {},
   "outputs": [],
   "source": [
    "df.dropna(inplace = True)\n",
    "df.isnull().any()"
   ]
  },
  {
   "cell_type": "code",
   "execution_count": null,
   "id": "2be4d0f6",
   "metadata": {},
   "outputs": [],
   "source": [
    "df"
   ]
  },
  {
   "cell_type": "markdown",
   "id": "fd6e054b",
   "metadata": {},
   "source": [
    "Evaluar la existencia de datos atípicos para la variable $\\textit{height}$"
   ]
  },
  {
   "cell_type": "code",
   "execution_count": null,
   "id": "6414490f",
   "metadata": {
    "scrolled": false
   },
   "outputs": [],
   "source": [
    "from matplotlib import pyplot as plt\n",
    "\n",
    "df.boxplot(column='height', figsize=(16,9))\n",
    "plt.show()"
   ]
  },
  {
   "cell_type": "markdown",
   "id": "6c8b088e",
   "metadata": {},
   "source": [
    "Obtener el DataFrame que no contiene outliers en la variable $\\textit{height}$, considerando que los límites del boxplot están definidos sobre la **regla 1.5 IQR**, se puede determinar de la siguiente manera:"
   ]
  },
  {
   "cell_type": "code",
   "execution_count": null,
   "id": "7fb171d5",
   "metadata": {},
   "outputs": [],
   "source": [
    "q1 = df['height'].quantile(.25)\n",
    "q3 = df['height'].quantile(.75)\n",
    "iqr = q3 - q1\n",
    "pmin = q1 - 1.5 * iqr\n",
    "pmax = q3 + 1.5 * iqr\n",
    "\n",
    "heigths_no_outliers = df[(df['height'] >= pmin) & (df['height'] <= pmax)]\n",
    "heigths_no_outliers"
   ]
  },
  {
   "cell_type": "code",
   "execution_count": null,
   "id": "eafa7180",
   "metadata": {
    "scrolled": false
   },
   "outputs": [],
   "source": [
    "heigths_no_outliers.boxplot(column='height', figsize=(16,9))\n",
    "plt.show()"
   ]
  },
  {
   "cell_type": "markdown",
   "id": "04627fc6",
   "metadata": {},
   "source": [
    "El análisis anterior puede ser muy general considerando que las estaturas varían en función de la disciplina deportiva. Un análisis más completo consistiría en analizar los outliers dentro de cada deporte."
   ]
  },
  {
   "cell_type": "code",
   "execution_count": null,
   "id": "4cda2e90",
   "metadata": {},
   "outputs": [],
   "source": [
    "df.boxplot(column='height', by='sport', rot=45, figsize=(16,9))\n",
    "plt.show()"
   ]
  },
  {
   "cell_type": "markdown",
   "id": "26ad59b4",
   "metadata": {},
   "source": [
    "## <font color='blue'>**Actividad: Manejo de outliers con Base de Datos Atletas**</font>\n",
    "\n",
    "Analizando el boxplot anterior, considere los dos deportes que mayor cantidad de outliers poseen (bajo la regla **1.5IQR**)  y construya para cada deporte:\n",
    "1. Un DataFrame sin valores atípicos\n",
    "2. Un DataFrame conformado por los valores atípicos\n",
    "3. Un Boxplot para los datos originales\n",
    "4. Un Boxplot para los datos sin valores atípicos"
   ]
  },
  {
   "cell_type": "code",
   "execution_count": 4,
   "id": "c8275c4d",
   "metadata": {},
   "outputs": [],
   "source": [
    "# Escribe tu código aquí"
   ]
  },
  {
   "cell_type": "markdown",
   "id": "2b291067",
   "metadata": {},
   "source": [
    "### Duplicados"
   ]
  },
  {
   "cell_type": "markdown",
   "id": "b0d4c97c",
   "metadata": {},
   "source": [
    "Para conocer la existencia de duplicados se puede hacer uso de los métodos `duplicated()` y `any()`."
   ]
  },
  {
   "cell_type": "code",
   "execution_count": null,
   "id": "c20807c1",
   "metadata": {},
   "outputs": [],
   "source": [
    "df = pd.read_csv('https://raw.githubusercontent.com/ivanmontenegrogomez/CursoPython/main/athletes.csv')\n",
    "df"
   ]
  },
  {
   "cell_type": "code",
   "execution_count": null,
   "id": "70b9c60f",
   "metadata": {},
   "outputs": [],
   "source": [
    "df.duplicated()"
   ]
  },
  {
   "cell_type": "code",
   "execution_count": null,
   "id": "28fcc770",
   "metadata": {},
   "outputs": [],
   "source": [
    "df.duplicated().any()"
   ]
  },
  {
   "cell_type": "code",
   "execution_count": null,
   "id": "a1bf6728",
   "metadata": {},
   "outputs": [],
   "source": [
    "df[df.duplicated()] "
   ]
  },
  {
   "cell_type": "markdown",
   "id": "524e4f95",
   "metadata": {},
   "source": [
    "Para eliminar los duplicados se puede utilizar el método `drop_duplicates()`. Sin embargo este método no modifica el DataFrame, para ello se debe utilizar la sentencia `inplace = True`."
   ]
  },
  {
   "cell_type": "code",
   "execution_count": null,
   "id": "43627938",
   "metadata": {},
   "outputs": [],
   "source": [
    "df.drop_duplicates()"
   ]
  },
  {
   "cell_type": "code",
   "execution_count": null,
   "id": "c092b031",
   "metadata": {},
   "outputs": [],
   "source": [
    "df.duplicated().any()"
   ]
  },
  {
   "cell_type": "code",
   "execution_count": null,
   "id": "2f3ea35e",
   "metadata": {},
   "outputs": [],
   "source": [
    "df.drop_duplicates(inplace = True)\n",
    "df.duplicated().any()"
   ]
  },
  {
   "cell_type": "markdown",
   "id": "c58f7007",
   "metadata": {},
   "source": [
    "### Manejo de índices"
   ]
  },
  {
   "cell_type": "markdown",
   "id": "82a03735",
   "metadata": {},
   "source": [
    "Por defecto Pandas nos entrega una indexación en caso que no se la indiquemos. En este caso al poseer una variable que tiene las características de índice ($\\textit id $), podríamos defirla como tal. La asignación de índices se realiza mediante el método `set_index()`. Sin embargo este método no modifica el DataFrame, para ello se debe utilizar la sentencia `inplace = True`."
   ]
  },
  {
   "cell_type": "code",
   "execution_count": null,
   "id": "eee486cd",
   "metadata": {},
   "outputs": [],
   "source": [
    "df = pd.read_csv('https://raw.githubusercontent.com/ivanmontenegrogomez/CursoPython/main/athletes.csv')\n",
    "df"
   ]
  },
  {
   "cell_type": "code",
   "execution_count": null,
   "id": "11d80912",
   "metadata": {},
   "outputs": [],
   "source": [
    "df.set_index('id')"
   ]
  },
  {
   "cell_type": "code",
   "execution_count": null,
   "id": "5c8a3432",
   "metadata": {},
   "outputs": [],
   "source": [
    "df"
   ]
  },
  {
   "cell_type": "code",
   "execution_count": null,
   "id": "888dda31",
   "metadata": {},
   "outputs": [],
   "source": [
    "df.set_index('id', inplace = True)\n",
    "df"
   ]
  },
  {
   "cell_type": "markdown",
   "id": "c78c3a3a",
   "metadata": {},
   "source": [
    "Con el método `reset_index()` se elimina la asignación de índice realizada. En caso que se quisiera eliminar el antiguo índice, se debe incorporar la sentencia `drop = True`."
   ]
  },
  {
   "cell_type": "code",
   "execution_count": null,
   "id": "534ea592",
   "metadata": {},
   "outputs": [],
   "source": [
    "df.reset_index()"
   ]
  },
  {
   "cell_type": "code",
   "execution_count": null,
   "id": "34cf3572",
   "metadata": {},
   "outputs": [],
   "source": [
    "df.reset_index(drop = True)"
   ]
  },
  {
   "cell_type": "code",
   "execution_count": null,
   "id": "7300e27d",
   "metadata": {},
   "outputs": [],
   "source": [
    "df.dropna(inplace = True)"
   ]
  },
  {
   "cell_type": "markdown",
   "id": "b4f576aa",
   "metadata": {},
   "source": [
    "El método `reset_index()` se utiliza para redefinir índices sobre DataFrames que han sido modificados, y que por tanto la secuencia de índices se ha visto interrumpida."
   ]
  },
  {
   "cell_type": "code",
   "execution_count": null,
   "id": "c6b2d90e",
   "metadata": {},
   "outputs": [],
   "source": [
    "df[240:260]"
   ]
  },
  {
   "cell_type": "markdown",
   "id": "8a896a42",
   "metadata": {},
   "source": [
    "## Agrupaciones y tablas dinámicas"
   ]
  },
  {
   "cell_type": "markdown",
   "id": "0e7b17ec",
   "metadata": {},
   "source": [
    "<img src=\"https://github.com/ivanmontenegrogomez/CursoPython/blob/main/transforma.jpg?raw=true\"></img>"
   ]
  },
  {
   "cell_type": "markdown",
   "id": "9baf85f5",
   "metadata": {},
   "source": [
    "Una tabla dinámica (pivot_table) es una tabla que agrupa datos procedentes de otra tabla o base de datos de mayor tamaño. Es de mucha utilidad en el análisis de datos y en especial se usa como herramienta de big data."
   ]
  },
  {
   "cell_type": "markdown",
   "id": "940cd101",
   "metadata": {},
   "source": [
    "Los parámetros del método pivot_table son:\n",
    "- `index`: eje vertical\n",
    "- `columns`: eje horizontal\n",
    "- `values`: valores que toma la variable\n",
    "- `aggfunc`: función a aplicar a los valores"
   ]
  },
  {
   "cell_type": "markdown",
   "id": "dc71bd67",
   "metadata": {},
   "source": [
    "df.pivot_table(index = \"índice\", columns = \"columnas\", values = \"valores\", aggfunc = \"función\")"
   ]
  },
  {
   "cell_type": "code",
   "execution_count": null,
   "id": "4139b7ba",
   "metadata": {},
   "outputs": [],
   "source": [
    "df = pd.read_csv('https://raw.githubusercontent.com/ivanmontenegrogomez/CursoPython/main/athletes.csv')\n",
    "df"
   ]
  },
  {
   "cell_type": "markdown",
   "id": "f630e5f1",
   "metadata": {},
   "source": [
    "- Obtener la cantidad de medallas (gold, silver, bronze) por país\n",
    "- Obtener la cantidad de medallas (gold, silver, bronze) por sexo\n",
    "- Obtener la cantidad total de medallas por país\n",
    "- Obtener la cantidad total de medallas (ordenadas de mayor a menor) por deporte\n",
    "- Obtener la estatura y peso promedio por deporte\n",
    "- Obtener la estatura y peso promedio por sexo dentro de cada deporte"
   ]
  },
  {
   "cell_type": "code",
   "execution_count": 5,
   "id": "2043e178",
   "metadata": {
    "scrolled": true
   },
   "outputs": [],
   "source": [
    "# Escribe tu código aquí"
   ]
  },
  {
   "cell_type": "markdown",
   "id": "0aebab36",
   "metadata": {},
   "source": [
    "## <font color='blue'>**Actividad: Análisis de datos con Base de Datos Titanic**</font>\n",
    "\n",
    "Para este problema utilizaremos la base de datos \"_titanic_\". Para cargarla debes usar los siguientes comandos:"
   ]
  },
  {
   "cell_type": "code",
   "execution_count": null,
   "id": "c60afb59",
   "metadata": {},
   "outputs": [],
   "source": [
    "import seaborn as sns\n",
    "titanic = sns.load_dataset(\"titanic\")\n",
    "titanic.head()"
   ]
  },
  {
   "cell_type": "markdown",
   "id": "189f10a6",
   "metadata": {},
   "source": [
    "Considere sólo las siguientes variables: _survived_, _pclass_, _sex_, _age_, _fare_ y _embarked_."
   ]
  },
  {
   "cell_type": "markdown",
   "id": "fb996a23",
   "metadata": {},
   "source": [
    "1. Eliminar del DataFrame las columnas con las que no se trabajará.\n",
    "2. Reemplazar los valores faltantes para la columna edad por el valor promedio de la muestra.\n",
    "3. Eliminar cualquier otra fila en la que falten datos\n",
    "4. Generar una tabla que muestre las tasas de supervivencia de los pasajeros según el lugar desde donde se embarcaron (C=Cherbourg, Q=Queenstown, S=Southampton) y género.\n",
    "5. Generar una tabla que muestre la tasa de supervivencia agrupada por sexo y clase del pasajero.\n",
    "6. Generar una tabla que muestre la cantidad de personas agrupadas por sexo y clase del pasajero.\n",
    "7. Generar una tabla que muestre la cantidad de supervivientes agrupada por sexo y clase del pasajero.\n",
    "\n",
    "¿Qué indican estas tablas sobre la importancia del sexo o el lugar de embarque o clase de las personas para influir en su tasa de supervivencia?"
   ]
  },
  {
   "cell_type": "code",
   "execution_count": 6,
   "id": "ebf64930",
   "metadata": {},
   "outputs": [],
   "source": [
    "# Escribe tu código aquí"
   ]
  }
 ],
 "metadata": {
  "kernelspec": {
   "display_name": "Python 3",
   "language": "python",
   "name": "python3"
  },
  "language_info": {
   "codemirror_mode": {
    "name": "ipython",
    "version": 3
   },
   "file_extension": ".py",
   "mimetype": "text/x-python",
   "name": "python",
   "nbconvert_exporter": "python",
   "pygments_lexer": "ipython3",
   "version": "3.8.8"
  },
  "vscode": {
   "interpreter": {
    "hash": "049170f37bbe5733a7cfc9f6cff1f80e8c74e803033562c39772b9597009a82d"
   }
  }
 },
 "nbformat": 4,
 "nbformat_minor": 5
}
